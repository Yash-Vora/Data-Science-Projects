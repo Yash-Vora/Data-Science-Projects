{
 "cells": [
  {
   "cell_type": "markdown",
   "metadata": {},
   "source": [
    "# Problem Statement : Build machine learning model that can predict whether the customer will remain a customer in the future or not based on different features like State, account length, international plan, total day cells etc."
   ]
  },
  {
   "cell_type": "markdown",
   "metadata": {},
   "source": [
    "# Import required libraries"
   ]
  },
  {
   "cell_type": "code",
   "execution_count": 1,
   "metadata": {},
   "outputs": [],
   "source": [
    "import pandas as pd  # For data analysis\n",
    "import numpy as np  # For data analysis\n",
    "import matplotlib.pyplot as plt  # For data visualization\n",
    "%matplotlib inline\n",
    "import seaborn as sns  # For data visualization\n",
    "sns.set_style(\"darkgrid\")\n",
    "import warnings\n",
    "warnings.filterwarnings('ignore')"
   ]
  },
  {
   "cell_type": "markdown",
   "metadata": {},
   "source": [
    "# Setting Path"
   ]
  },
  {
   "cell_type": "code",
   "execution_count": 2,
   "metadata": {},
   "outputs": [
    {
     "name": "stdout",
     "output_type": "stream",
     "text": [
      "C:\\Data Science Docs\\Python Docs\\Python Case Study\\Telecom Churn Analysis\n"
     ]
    }
   ],
   "source": [
    "cd C:\\Data Science Docs\\Python Docs\\Python Case Study\\Telecom Churn Analysis"
   ]
  },
  {
   "cell_type": "markdown",
   "metadata": {},
   "source": [
    "# Data Exploration and Pre Processing"
   ]
  },
  {
   "cell_type": "markdown",
   "metadata": {},
   "source": [
    "#### Load the given dataset"
   ]
  },
  {
   "cell_type": "code",
   "execution_count": 3,
   "metadata": {},
   "outputs": [
    {
     "data": {
      "text/html": [
       "<div>\n",
       "<style scoped>\n",
       "    .dataframe tbody tr th:only-of-type {\n",
       "        vertical-align: middle;\n",
       "    }\n",
       "\n",
       "    .dataframe tbody tr th {\n",
       "        vertical-align: top;\n",
       "    }\n",
       "\n",
       "    .dataframe thead th {\n",
       "        text-align: right;\n",
       "    }\n",
       "</style>\n",
       "<table border=\"1\" class=\"dataframe\">\n",
       "  <thead>\n",
       "    <tr style=\"text-align: right;\">\n",
       "      <th></th>\n",
       "      <th>State</th>\n",
       "      <th>Account length</th>\n",
       "      <th>Area code</th>\n",
       "      <th>International plan</th>\n",
       "      <th>Voice mail plan</th>\n",
       "      <th>Number vmail messages</th>\n",
       "      <th>Total day minutes</th>\n",
       "      <th>Total day calls</th>\n",
       "      <th>Total day charge</th>\n",
       "      <th>Total eve minutes</th>\n",
       "      <th>Total eve calls</th>\n",
       "      <th>Total eve charge</th>\n",
       "      <th>Total night minutes</th>\n",
       "      <th>Total night calls</th>\n",
       "      <th>Total night charge</th>\n",
       "      <th>Total intl minutes</th>\n",
       "      <th>Total intl calls</th>\n",
       "      <th>Total intl charge</th>\n",
       "      <th>Customer service calls</th>\n",
       "      <th>Churn</th>\n",
       "    </tr>\n",
       "  </thead>\n",
       "  <tbody>\n",
       "    <tr>\n",
       "      <th>0</th>\n",
       "      <td>KS</td>\n",
       "      <td>128</td>\n",
       "      <td>415</td>\n",
       "      <td>No</td>\n",
       "      <td>Yes</td>\n",
       "      <td>25</td>\n",
       "      <td>265.1</td>\n",
       "      <td>110</td>\n",
       "      <td>45.07</td>\n",
       "      <td>197.4</td>\n",
       "      <td>99</td>\n",
       "      <td>16.78</td>\n",
       "      <td>244.7</td>\n",
       "      <td>91</td>\n",
       "      <td>11.01</td>\n",
       "      <td>10.0</td>\n",
       "      <td>3</td>\n",
       "      <td>2.70</td>\n",
       "      <td>1</td>\n",
       "      <td>False</td>\n",
       "    </tr>\n",
       "    <tr>\n",
       "      <th>1</th>\n",
       "      <td>OH</td>\n",
       "      <td>107</td>\n",
       "      <td>415</td>\n",
       "      <td>No</td>\n",
       "      <td>Yes</td>\n",
       "      <td>26</td>\n",
       "      <td>161.6</td>\n",
       "      <td>123</td>\n",
       "      <td>27.47</td>\n",
       "      <td>195.5</td>\n",
       "      <td>103</td>\n",
       "      <td>16.62</td>\n",
       "      <td>254.4</td>\n",
       "      <td>103</td>\n",
       "      <td>11.45</td>\n",
       "      <td>13.7</td>\n",
       "      <td>3</td>\n",
       "      <td>3.70</td>\n",
       "      <td>1</td>\n",
       "      <td>False</td>\n",
       "    </tr>\n",
       "    <tr>\n",
       "      <th>2</th>\n",
       "      <td>NJ</td>\n",
       "      <td>137</td>\n",
       "      <td>415</td>\n",
       "      <td>No</td>\n",
       "      <td>No</td>\n",
       "      <td>0</td>\n",
       "      <td>243.4</td>\n",
       "      <td>114</td>\n",
       "      <td>41.38</td>\n",
       "      <td>121.2</td>\n",
       "      <td>110</td>\n",
       "      <td>10.30</td>\n",
       "      <td>162.6</td>\n",
       "      <td>104</td>\n",
       "      <td>7.32</td>\n",
       "      <td>12.2</td>\n",
       "      <td>5</td>\n",
       "      <td>3.29</td>\n",
       "      <td>0</td>\n",
       "      <td>False</td>\n",
       "    </tr>\n",
       "    <tr>\n",
       "      <th>3</th>\n",
       "      <td>OH</td>\n",
       "      <td>84</td>\n",
       "      <td>408</td>\n",
       "      <td>Yes</td>\n",
       "      <td>No</td>\n",
       "      <td>0</td>\n",
       "      <td>299.4</td>\n",
       "      <td>71</td>\n",
       "      <td>50.90</td>\n",
       "      <td>61.9</td>\n",
       "      <td>88</td>\n",
       "      <td>5.26</td>\n",
       "      <td>196.9</td>\n",
       "      <td>89</td>\n",
       "      <td>8.86</td>\n",
       "      <td>6.6</td>\n",
       "      <td>7</td>\n",
       "      <td>1.78</td>\n",
       "      <td>2</td>\n",
       "      <td>False</td>\n",
       "    </tr>\n",
       "    <tr>\n",
       "      <th>4</th>\n",
       "      <td>OK</td>\n",
       "      <td>75</td>\n",
       "      <td>415</td>\n",
       "      <td>Yes</td>\n",
       "      <td>No</td>\n",
       "      <td>0</td>\n",
       "      <td>166.7</td>\n",
       "      <td>113</td>\n",
       "      <td>28.34</td>\n",
       "      <td>148.3</td>\n",
       "      <td>122</td>\n",
       "      <td>12.61</td>\n",
       "      <td>186.9</td>\n",
       "      <td>121</td>\n",
       "      <td>8.41</td>\n",
       "      <td>10.1</td>\n",
       "      <td>3</td>\n",
       "      <td>2.73</td>\n",
       "      <td>3</td>\n",
       "      <td>False</td>\n",
       "    </tr>\n",
       "  </tbody>\n",
       "</table>\n",
       "</div>"
      ],
      "text/plain": [
       "  State  Account length  Area code International plan Voice mail plan  \\\n",
       "0    KS             128        415                 No             Yes   \n",
       "1    OH             107        415                 No             Yes   \n",
       "2    NJ             137        415                 No              No   \n",
       "3    OH              84        408                Yes              No   \n",
       "4    OK              75        415                Yes              No   \n",
       "\n",
       "   Number vmail messages  Total day minutes  Total day calls  \\\n",
       "0                     25              265.1              110   \n",
       "1                     26              161.6              123   \n",
       "2                      0              243.4              114   \n",
       "3                      0              299.4               71   \n",
       "4                      0              166.7              113   \n",
       "\n",
       "   Total day charge  Total eve minutes  Total eve calls  Total eve charge  \\\n",
       "0             45.07              197.4               99             16.78   \n",
       "1             27.47              195.5              103             16.62   \n",
       "2             41.38              121.2              110             10.30   \n",
       "3             50.90               61.9               88              5.26   \n",
       "4             28.34              148.3              122             12.61   \n",
       "\n",
       "   Total night minutes  Total night calls  Total night charge  \\\n",
       "0                244.7                 91               11.01   \n",
       "1                254.4                103               11.45   \n",
       "2                162.6                104                7.32   \n",
       "3                196.9                 89                8.86   \n",
       "4                186.9                121                8.41   \n",
       "\n",
       "   Total intl minutes  Total intl calls  Total intl charge  \\\n",
       "0                10.0                 3               2.70   \n",
       "1                13.7                 3               3.70   \n",
       "2                12.2                 5               3.29   \n",
       "3                 6.6                 7               1.78   \n",
       "4                10.1                 3               2.73   \n",
       "\n",
       "   Customer service calls  Churn  \n",
       "0                       1  False  \n",
       "1                       1  False  \n",
       "2                       0  False  \n",
       "3                       2  False  \n",
       "4                       3  False  "
      ]
     },
     "execution_count": 3,
     "metadata": {},
     "output_type": "execute_result"
    }
   ],
   "source": [
    "df = pd.read_csv(\"telecom.csv\")\n",
    "df.head()"
   ]
  },
  {
   "cell_type": "markdown",
   "metadata": {},
   "source": [
    "#### Print all the column names"
   ]
  },
  {
   "cell_type": "code",
   "execution_count": 4,
   "metadata": {},
   "outputs": [
    {
     "data": {
      "text/plain": [
       "Index(['State', 'Account length', 'Area code', 'International plan',\n",
       "       'Voice mail plan', 'Number vmail messages', 'Total day minutes',\n",
       "       'Total day calls', 'Total day charge', 'Total eve minutes',\n",
       "       'Total eve calls', 'Total eve charge', 'Total night minutes',\n",
       "       'Total night calls', 'Total night charge', 'Total intl minutes',\n",
       "       'Total intl calls', 'Total intl charge', 'Customer service calls',\n",
       "       'Churn'],\n",
       "      dtype='object')"
      ]
     },
     "execution_count": 4,
     "metadata": {},
     "output_type": "execute_result"
    }
   ],
   "source": [
    "df.columns"
   ]
  },
  {
   "cell_type": "markdown",
   "metadata": {},
   "source": [
    "#### Describe the data"
   ]
  },
  {
   "cell_type": "code",
   "execution_count": 5,
   "metadata": {},
   "outputs": [
    {
     "data": {
      "text/html": [
       "<div>\n",
       "<style scoped>\n",
       "    .dataframe tbody tr th:only-of-type {\n",
       "        vertical-align: middle;\n",
       "    }\n",
       "\n",
       "    .dataframe tbody tr th {\n",
       "        vertical-align: top;\n",
       "    }\n",
       "\n",
       "    .dataframe thead th {\n",
       "        text-align: right;\n",
       "    }\n",
       "</style>\n",
       "<table border=\"1\" class=\"dataframe\">\n",
       "  <thead>\n",
       "    <tr style=\"text-align: right;\">\n",
       "      <th></th>\n",
       "      <th>Account length</th>\n",
       "      <th>Area code</th>\n",
       "      <th>Number vmail messages</th>\n",
       "      <th>Total day minutes</th>\n",
       "      <th>Total day calls</th>\n",
       "      <th>Total day charge</th>\n",
       "      <th>Total eve minutes</th>\n",
       "      <th>Total eve calls</th>\n",
       "      <th>Total eve charge</th>\n",
       "      <th>Total night minutes</th>\n",
       "      <th>Total night calls</th>\n",
       "      <th>Total night charge</th>\n",
       "      <th>Total intl minutes</th>\n",
       "      <th>Total intl calls</th>\n",
       "      <th>Total intl charge</th>\n",
       "      <th>Customer service calls</th>\n",
       "    </tr>\n",
       "  </thead>\n",
       "  <tbody>\n",
       "    <tr>\n",
       "      <th>count</th>\n",
       "      <td>2666.000000</td>\n",
       "      <td>2666.000000</td>\n",
       "      <td>2666.000000</td>\n",
       "      <td>2666.00000</td>\n",
       "      <td>2666.000000</td>\n",
       "      <td>2666.000000</td>\n",
       "      <td>2666.000000</td>\n",
       "      <td>2666.000000</td>\n",
       "      <td>2666.000000</td>\n",
       "      <td>2666.000000</td>\n",
       "      <td>2666.000000</td>\n",
       "      <td>2666.000000</td>\n",
       "      <td>2666.000000</td>\n",
       "      <td>2666.000000</td>\n",
       "      <td>2666.000000</td>\n",
       "      <td>2666.000000</td>\n",
       "    </tr>\n",
       "    <tr>\n",
       "      <th>mean</th>\n",
       "      <td>100.620405</td>\n",
       "      <td>437.438860</td>\n",
       "      <td>8.021755</td>\n",
       "      <td>179.48162</td>\n",
       "      <td>100.310203</td>\n",
       "      <td>30.512404</td>\n",
       "      <td>200.386159</td>\n",
       "      <td>100.023631</td>\n",
       "      <td>17.033072</td>\n",
       "      <td>201.168942</td>\n",
       "      <td>100.106152</td>\n",
       "      <td>9.052689</td>\n",
       "      <td>10.237022</td>\n",
       "      <td>4.467367</td>\n",
       "      <td>2.764490</td>\n",
       "      <td>1.562641</td>\n",
       "    </tr>\n",
       "    <tr>\n",
       "      <th>std</th>\n",
       "      <td>39.563974</td>\n",
       "      <td>42.521018</td>\n",
       "      <td>13.612277</td>\n",
       "      <td>54.21035</td>\n",
       "      <td>19.988162</td>\n",
       "      <td>9.215733</td>\n",
       "      <td>50.951515</td>\n",
       "      <td>20.161445</td>\n",
       "      <td>4.330864</td>\n",
       "      <td>50.780323</td>\n",
       "      <td>19.418459</td>\n",
       "      <td>2.285120</td>\n",
       "      <td>2.788349</td>\n",
       "      <td>2.456195</td>\n",
       "      <td>0.752812</td>\n",
       "      <td>1.311236</td>\n",
       "    </tr>\n",
       "    <tr>\n",
       "      <th>min</th>\n",
       "      <td>1.000000</td>\n",
       "      <td>408.000000</td>\n",
       "      <td>0.000000</td>\n",
       "      <td>0.00000</td>\n",
       "      <td>0.000000</td>\n",
       "      <td>0.000000</td>\n",
       "      <td>0.000000</td>\n",
       "      <td>0.000000</td>\n",
       "      <td>0.000000</td>\n",
       "      <td>43.700000</td>\n",
       "      <td>33.000000</td>\n",
       "      <td>1.970000</td>\n",
       "      <td>0.000000</td>\n",
       "      <td>0.000000</td>\n",
       "      <td>0.000000</td>\n",
       "      <td>0.000000</td>\n",
       "    </tr>\n",
       "    <tr>\n",
       "      <th>25%</th>\n",
       "      <td>73.000000</td>\n",
       "      <td>408.000000</td>\n",
       "      <td>0.000000</td>\n",
       "      <td>143.40000</td>\n",
       "      <td>87.000000</td>\n",
       "      <td>24.380000</td>\n",
       "      <td>165.300000</td>\n",
       "      <td>87.000000</td>\n",
       "      <td>14.050000</td>\n",
       "      <td>166.925000</td>\n",
       "      <td>87.000000</td>\n",
       "      <td>7.512500</td>\n",
       "      <td>8.500000</td>\n",
       "      <td>3.000000</td>\n",
       "      <td>2.300000</td>\n",
       "      <td>1.000000</td>\n",
       "    </tr>\n",
       "    <tr>\n",
       "      <th>50%</th>\n",
       "      <td>100.000000</td>\n",
       "      <td>415.000000</td>\n",
       "      <td>0.000000</td>\n",
       "      <td>179.95000</td>\n",
       "      <td>101.000000</td>\n",
       "      <td>30.590000</td>\n",
       "      <td>200.900000</td>\n",
       "      <td>100.000000</td>\n",
       "      <td>17.080000</td>\n",
       "      <td>201.150000</td>\n",
       "      <td>100.000000</td>\n",
       "      <td>9.050000</td>\n",
       "      <td>10.200000</td>\n",
       "      <td>4.000000</td>\n",
       "      <td>2.750000</td>\n",
       "      <td>1.000000</td>\n",
       "    </tr>\n",
       "    <tr>\n",
       "      <th>75%</th>\n",
       "      <td>127.000000</td>\n",
       "      <td>510.000000</td>\n",
       "      <td>19.000000</td>\n",
       "      <td>215.90000</td>\n",
       "      <td>114.000000</td>\n",
       "      <td>36.700000</td>\n",
       "      <td>235.100000</td>\n",
       "      <td>114.000000</td>\n",
       "      <td>19.980000</td>\n",
       "      <td>236.475000</td>\n",
       "      <td>113.000000</td>\n",
       "      <td>10.640000</td>\n",
       "      <td>12.100000</td>\n",
       "      <td>6.000000</td>\n",
       "      <td>3.270000</td>\n",
       "      <td>2.000000</td>\n",
       "    </tr>\n",
       "    <tr>\n",
       "      <th>max</th>\n",
       "      <td>243.000000</td>\n",
       "      <td>510.000000</td>\n",
       "      <td>50.000000</td>\n",
       "      <td>350.80000</td>\n",
       "      <td>160.000000</td>\n",
       "      <td>59.640000</td>\n",
       "      <td>363.700000</td>\n",
       "      <td>170.000000</td>\n",
       "      <td>30.910000</td>\n",
       "      <td>395.000000</td>\n",
       "      <td>166.000000</td>\n",
       "      <td>17.770000</td>\n",
       "      <td>20.000000</td>\n",
       "      <td>20.000000</td>\n",
       "      <td>5.400000</td>\n",
       "      <td>9.000000</td>\n",
       "    </tr>\n",
       "  </tbody>\n",
       "</table>\n",
       "</div>"
      ],
      "text/plain": [
       "       Account length    Area code  Number vmail messages  Total day minutes  \\\n",
       "count     2666.000000  2666.000000            2666.000000         2666.00000   \n",
       "mean       100.620405   437.438860               8.021755          179.48162   \n",
       "std         39.563974    42.521018              13.612277           54.21035   \n",
       "min          1.000000   408.000000               0.000000            0.00000   \n",
       "25%         73.000000   408.000000               0.000000          143.40000   \n",
       "50%        100.000000   415.000000               0.000000          179.95000   \n",
       "75%        127.000000   510.000000              19.000000          215.90000   \n",
       "max        243.000000   510.000000              50.000000          350.80000   \n",
       "\n",
       "       Total day calls  Total day charge  Total eve minutes  Total eve calls  \\\n",
       "count      2666.000000       2666.000000        2666.000000      2666.000000   \n",
       "mean        100.310203         30.512404         200.386159       100.023631   \n",
       "std          19.988162          9.215733          50.951515        20.161445   \n",
       "min           0.000000          0.000000           0.000000         0.000000   \n",
       "25%          87.000000         24.380000         165.300000        87.000000   \n",
       "50%         101.000000         30.590000         200.900000       100.000000   \n",
       "75%         114.000000         36.700000         235.100000       114.000000   \n",
       "max         160.000000         59.640000         363.700000       170.000000   \n",
       "\n",
       "       Total eve charge  Total night minutes  Total night calls  \\\n",
       "count       2666.000000          2666.000000        2666.000000   \n",
       "mean          17.033072           201.168942         100.106152   \n",
       "std            4.330864            50.780323          19.418459   \n",
       "min            0.000000            43.700000          33.000000   \n",
       "25%           14.050000           166.925000          87.000000   \n",
       "50%           17.080000           201.150000         100.000000   \n",
       "75%           19.980000           236.475000         113.000000   \n",
       "max           30.910000           395.000000         166.000000   \n",
       "\n",
       "       Total night charge  Total intl minutes  Total intl calls  \\\n",
       "count         2666.000000         2666.000000       2666.000000   \n",
       "mean             9.052689           10.237022          4.467367   \n",
       "std              2.285120            2.788349          2.456195   \n",
       "min              1.970000            0.000000          0.000000   \n",
       "25%              7.512500            8.500000          3.000000   \n",
       "50%              9.050000           10.200000          4.000000   \n",
       "75%             10.640000           12.100000          6.000000   \n",
       "max             17.770000           20.000000         20.000000   \n",
       "\n",
       "       Total intl charge  Customer service calls  \n",
       "count        2666.000000             2666.000000  \n",
       "mean            2.764490                1.562641  \n",
       "std             0.752812                1.311236  \n",
       "min             0.000000                0.000000  \n",
       "25%             2.300000                1.000000  \n",
       "50%             2.750000                1.000000  \n",
       "75%             3.270000                2.000000  \n",
       "max             5.400000                9.000000  "
      ]
     },
     "execution_count": 5,
     "metadata": {},
     "output_type": "execute_result"
    }
   ],
   "source": [
    "df.describe()"
   ]
  },
  {
   "cell_type": "markdown",
   "metadata": {},
   "source": [
    "#### Find all the Null values"
   ]
  },
  {
   "cell_type": "code",
   "execution_count": 6,
   "metadata": {},
   "outputs": [
    {
     "data": {
      "text/plain": [
       "State                     0\n",
       "Account length            0\n",
       "Area code                 0\n",
       "International plan        0\n",
       "Voice mail plan           0\n",
       "Number vmail messages     0\n",
       "Total day minutes         0\n",
       "Total day calls           0\n",
       "Total day charge          0\n",
       "Total eve minutes         0\n",
       "Total eve calls           0\n",
       "Total eve charge          0\n",
       "Total night minutes       0\n",
       "Total night calls         0\n",
       "Total night charge        0\n",
       "Total intl minutes        0\n",
       "Total intl calls          0\n",
       "Total intl charge         0\n",
       "Customer service calls    0\n",
       "Churn                     0\n",
       "dtype: int64"
      ]
     },
     "execution_count": 6,
     "metadata": {},
     "output_type": "execute_result"
    }
   ],
   "source": [
    "df.isnull().sum()"
   ]
  },
  {
   "cell_type": "markdown",
   "metadata": {},
   "source": [
    "#### Plot the customers who have international plans"
   ]
  },
  {
   "cell_type": "code",
   "execution_count": 7,
   "metadata": {},
   "outputs": [
    {
     "data": {
      "image/png": "[encoded data removed]",
      "text/plain": [
       "<Figure size 432x288 with 1 Axes>"
      ]
     },
     "metadata": {},
     "output_type": "display_data"
    }
   ],
   "source": [
    "df['International plan'].value_counts().plot(kind='bar',color=['blue','red'])\n",
    "plt.title('Customers having international plan')\n",
    "plt.xlabel('International Plan')\n",
    "plt.ylabel('Customers')\n",
    "plt.xticks(rotation=0)\n",
    "plt.show()"
   ]
  },
  {
   "cell_type": "markdown",
   "metadata": {},
   "source": [
    "#### Plot the customers who have Voice mail plan"
   ]
  },
  {
   "cell_type": "code",
   "execution_count": 8,
   "metadata": {},
   "outputs": [
    {
     "data": {
      "image/png": "[encoded data removed]",
      "text/plain": [
       "<Figure size 432x288 with 1 Axes>"
      ]
     },
     "metadata": {},
     "output_type": "display_data"
    }
   ],
   "source": [
    "df['Voice mail plan'].value_counts().plot(kind='bar',color=['blue','red'])\n",
    "plt.title('Customers having voice mail plan')\n",
    "plt.xlabel('Voice Mail Plan')\n",
    "plt.ylabel('Customers')\n",
    "plt.xticks(rotation=0)\n",
    "plt.show()"
   ]
  },
  {
   "cell_type": "markdown",
   "metadata": {},
   "source": [
    "#### Plot the total day calls"
   ]
  },
  {
   "cell_type": "code",
   "execution_count": 9,
   "metadata": {},
   "outputs": [
    {
     "data": {
      "image/png": "[encoded data removed]",
      "text/plain": [
       "<Figure size 432x288 with 1 Axes>"
      ]
     },
     "metadata": {},
     "output_type": "display_data"
    }
   ],
   "source": [
    "plt.plot(df['Total day calls'])\n",
    "plt.title('Line Plot Of Total Day Calls')\n",
    "plt.show()"
   ]
  },
  {
   "cell_type": "markdown",
   "metadata": {},
   "source": [
    "#### Plot the total day charge"
   ]
  },
  {
   "cell_type": "code",
   "execution_count": 10,
   "metadata": {},
   "outputs": [
    {
     "data": {
      "image/png": "[encoded data removed]",
      "text/plain": [
       "<Figure size 432x288 with 1 Axes>"
      ]
     },
     "metadata": {},
     "output_type": "display_data"
    }
   ],
   "source": [
    "plt.plot(df['Total day charge'])\n",
    "plt.title('Line Plot Of Total Day Charge')\n",
    "plt.show()"
   ]
  },
  {
   "cell_type": "markdown",
   "metadata": {},
   "source": [
    "#### Display pie chart for value count in Churn column"
   ]
  },
  {
   "cell_type": "code",
   "execution_count": 11,
   "metadata": {},
   "outputs": [
    {
     "data": {
      "image/png": "[encoded data removed]",
      "text/plain": [
       "<Figure size 432x288 with 1 Axes>"
      ]
     },
     "metadata": {},
     "output_type": "display_data"
    }
   ],
   "source": [
    "df['Churn'].value_counts().plot(kind='pie',autopct='%1.1f%%',explode=[0,0.1],labels=['',''])\n",
    "plt.title('Pie Chart Of Churn Column')\n",
    "plt.ylabel('')\n",
    "plt.legend(['False','True'],title='Churn',loc =\"upper right\")\n",
    "plt.show()"
   ]
  },
  {
   "cell_type": "markdown",
   "metadata": {},
   "source": [
    "#### Display a scatter plot between total day calls and total day charges"
   ]
  },
  {
   "cell_type": "code",
   "execution_count": 12,
   "metadata": {},
   "outputs": [
    {
     "data": {
      "image/png": "[encoded data removed]",
      "text/plain": [
       "<Figure size 432x288 with 1 Axes>"
      ]
     },
     "metadata": {},
     "output_type": "display_data"
    }
   ],
   "source": [
    "plt.scatter(df['Total day calls'],df['Total day charge'])\n",
    "plt.title('Total Day Calls v/s Total Day Charge')\n",
    "plt.xlabel('Total Day Calls')\n",
    "plt.ylabel('Total Day Charge')\n",
    "plt.show()"
   ]
  },
  {
   "cell_type": "markdown",
   "metadata": {},
   "source": [
    "#### Display a scatter plot between total day calls and total night calls"
   ]
  },
  {
   "cell_type": "code",
   "execution_count": 13,
   "metadata": {},
   "outputs": [
    {
     "data": {
      "image/png": "[encoded data removed]",
      "text/plain": [
       "<Figure size 432x288 with 1 Axes>"
      ]
     },
     "metadata": {},
     "output_type": "display_data"
    }
   ],
   "source": [
    "plt.scatter(df['Total day calls'],df['Total night calls'])\n",
    "plt.title('Total Day Calls v/s Total Night Calls')\n",
    "plt.xlabel('Total Day Calls')\n",
    "plt.ylabel('Total Night Calls')\n",
    "plt.show()"
   ]
  },
  {
   "cell_type": "markdown",
   "metadata": {},
   "source": [
    "#### Display a boxplot of Total day minutes with respect to Churn"
   ]
  },
  {
   "cell_type": "code",
   "execution_count": 14,
   "metadata": {},
   "outputs": [
    {
     "data": {
      "text/plain": [
       "<AxesSubplot:xlabel='Churn', ylabel='Total day minutes'>"
      ]
     },
     "execution_count": 14,
     "metadata": {},
     "output_type": "execute_result"
    },
    {
     "data": {
      "image/png": "[encoded data removed]",
      "text/plain": [
       "<Figure size 432x288 with 1 Axes>"
      ]
     },
     "metadata": {},
     "output_type": "display_data"
    }
   ],
   "source": [
    "sns.boxplot(x=df['Churn'],y=df['Total day minutes'])"
   ]
  },
  {
   "cell_type": "markdown",
   "metadata": {},
   "source": [
    "#### Display a boxplot of Total day charge with respect to Churn"
   ]
  },
  {
   "cell_type": "code",
   "execution_count": 15,
   "metadata": {},
   "outputs": [
    {
     "data": {
      "text/plain": [
       "<AxesSubplot:xlabel='Churn', ylabel='Total day charge'>"
      ]
     },
     "execution_count": 15,
     "metadata": {},
     "output_type": "execute_result"
    },
    {
     "data": {
      "image/png": "[encoded data removed]",
      "text/plain": [
       "<Figure size 432x288 with 1 Axes>"
      ]
     },
     "metadata": {},
     "output_type": "display_data"
    }
   ],
   "source": [
    "sns.boxplot(x=df['Churn'],y=df['Total day charge'])"
   ]
  },
  {
   "cell_type": "markdown",
   "metadata": {},
   "source": [
    "# Working with models"
   ]
  },
  {
   "cell_type": "markdown",
   "metadata": {},
   "source": [
    "#### Perform encoding on churn"
   ]
  },
  {
   "cell_type": "code",
   "execution_count": 16,
   "metadata": {},
   "outputs": [
    {
     "data": {
      "text/plain": [
       "array([False,  True])"
      ]
     },
     "execution_count": 16,
     "metadata": {},
     "output_type": "execute_result"
    }
   ],
   "source": [
    "df['Churn'].unique()"
   ]
  },
  {
   "cell_type": "code",
   "execution_count": 17,
   "metadata": {},
   "outputs": [],
   "source": [
    "from sklearn.preprocessing import LabelEncoder\n",
    "LE = LabelEncoder()"
   ]
  },
  {
   "cell_type": "code",
   "execution_count": 18,
   "metadata": {},
   "outputs": [
    {
     "data": {
      "text/plain": [
       "0    0\n",
       "1    0\n",
       "2    0\n",
       "3    0\n",
       "4    0\n",
       "Name: Churn, dtype: int64"
      ]
     },
     "execution_count": 18,
     "metadata": {},
     "output_type": "execute_result"
    }
   ],
   "source": [
    "df['Churn'] = LE.fit_transform(df['Churn'])\n",
    "df['Churn'].head()"
   ]
  },
  {
   "cell_type": "markdown",
   "metadata": {},
   "source": [
    "#### Perform encoding on International Plan"
   ]
  },
  {
   "cell_type": "code",
   "execution_count": 19,
   "metadata": {},
   "outputs": [
    {
     "data": {
      "text/plain": [
       "array(['No', 'Yes'], dtype=object)"
      ]
     },
     "execution_count": 19,
     "metadata": {},
     "output_type": "execute_result"
    }
   ],
   "source": [
    "df['International plan'].unique()"
   ]
  },
  {
   "cell_type": "code",
   "execution_count": 20,
   "metadata": {},
   "outputs": [
    {
     "data": {
      "text/plain": [
       "0    0\n",
       "1    0\n",
       "2    0\n",
       "3    1\n",
       "4    1\n",
       "Name: International plan, dtype: int32"
      ]
     },
     "execution_count": 20,
     "metadata": {},
     "output_type": "execute_result"
    }
   ],
   "source": [
    "df['International plan'] = LE.fit_transform(df['International plan'])\n",
    "df['International plan'].head()"
   ]
  },
  {
   "cell_type": "markdown",
   "metadata": {},
   "source": [
    "#### Perform encoding on voice mail plan using sklearn"
   ]
  },
  {
   "cell_type": "code",
   "execution_count": 21,
   "metadata": {},
   "outputs": [
    {
     "data": {
      "text/plain": [
       "array(['Yes', 'No'], dtype=object)"
      ]
     },
     "execution_count": 21,
     "metadata": {},
     "output_type": "execute_result"
    }
   ],
   "source": [
    "df['Voice mail plan'].unique()"
   ]
  },
  {
   "cell_type": "code",
   "execution_count": 22,
   "metadata": {},
   "outputs": [
    {
     "data": {
      "text/plain": [
       "0    1\n",
       "1    1\n",
       "2    0\n",
       "3    0\n",
       "4    0\n",
       "Name: Voice mail plan, dtype: int32"
      ]
     },
     "execution_count": 22,
     "metadata": {},
     "output_type": "execute_result"
    }
   ],
   "source": [
    "df['Voice mail plan'] = LE.fit_transform(df['Voice mail plan'])\n",
    "df['Voice mail plan'].head()"
   ]
  },
  {
   "cell_type": "markdown",
   "metadata": {},
   "source": [
    "#### Check the correlation among all the columns"
   ]
  },
  {
   "cell_type": "code",
   "execution_count": 23,
   "metadata": {},
   "outputs": [],
   "source": [
    "x = df.drop(['Churn','State'],axis=1)\n",
    "y = df['Churn']"
   ]
  },
  {
   "cell_type": "code",
   "execution_count": 24,
   "metadata": {},
   "outputs": [],
   "source": [
    "# For feature selection we are using ExtraTreeClassifier method\n",
    "from sklearn.ensemble import ExtraTreesClassifier"
   ]
  },
  {
   "cell_type": "code",
   "execution_count": 25,
   "metadata": {},
   "outputs": [],
   "source": [
    "ETC = ExtraTreesClassifier()"
   ]
  },
  {
   "cell_type": "code",
   "execution_count": 26,
   "metadata": {},
   "outputs": [
    {
     "data": {
      "text/plain": [
       "ExtraTreesClassifier()"
      ]
     },
     "execution_count": 26,
     "metadata": {},
     "output_type": "execute_result"
    }
   ],
   "source": [
    "ETC.fit(x,y)"
   ]
  },
  {
   "cell_type": "code",
   "execution_count": 27,
   "metadata": {},
   "outputs": [
    {
     "data": {
      "text/plain": [
       "[0.12458084304421815,\n",
       " 0.1226070418047802,\n",
       " 0.12195613607627642,\n",
       " 0.08185825803352628,\n",
       " 0.057739470925880144,\n",
       " 0.057509272000353266,\n",
       " 0.05236540682967192,\n",
       " 0.05165185446822346,\n",
       " 0.04826343744545612,\n",
       " 0.03996694273324874,\n",
       " 0.03896715884329775,\n",
       " 0.03791814969648881,\n",
       " 0.03785728729664211,\n",
       " 0.035399400850416256,\n",
       " 0.03531012741234258,\n",
       " 0.024526395921830604,\n",
       " 0.016794011600116857,\n",
       " 0.014728805017230326]"
      ]
     },
     "execution_count": 27,
     "metadata": {},
     "output_type": "execute_result"
    }
   ],
   "source": [
    "sorted(ETC.feature_importances_,reverse=True)"
   ]
  },
  {
   "cell_type": "code",
   "execution_count": 28,
   "metadata": {},
   "outputs": [
    {
     "data": {
      "text/html": [
       "<div>\n",
       "<style scoped>\n",
       "    .dataframe tbody tr th:only-of-type {\n",
       "        vertical-align: middle;\n",
       "    }\n",
       "\n",
       "    .dataframe tbody tr th {\n",
       "        vertical-align: top;\n",
       "    }\n",
       "\n",
       "    .dataframe thead th {\n",
       "        text-align: right;\n",
       "    }\n",
       "</style>\n",
       "<table border=\"1\" class=\"dataframe\">\n",
       "  <thead>\n",
       "    <tr style=\"text-align: right;\">\n",
       "      <th></th>\n",
       "      <th>Score</th>\n",
       "    </tr>\n",
       "  </thead>\n",
       "  <tbody>\n",
       "    <tr>\n",
       "      <th>Account length</th>\n",
       "      <td>0.037857</td>\n",
       "    </tr>\n",
       "    <tr>\n",
       "      <th>Area code</th>\n",
       "      <td>0.024526</td>\n",
       "    </tr>\n",
       "    <tr>\n",
       "      <th>International plan</th>\n",
       "      <td>0.081858</td>\n",
       "    </tr>\n",
       "    <tr>\n",
       "      <th>Voice mail plan</th>\n",
       "      <td>0.014729</td>\n",
       "    </tr>\n",
       "    <tr>\n",
       "      <th>Number vmail messages</th>\n",
       "      <td>0.016794</td>\n",
       "    </tr>\n",
       "    <tr>\n",
       "      <th>Total day minutes</th>\n",
       "      <td>0.122607</td>\n",
       "    </tr>\n",
       "    <tr>\n",
       "      <th>Total day calls</th>\n",
       "      <td>0.037918</td>\n",
       "    </tr>\n",
       "    <tr>\n",
       "      <th>Total day charge</th>\n",
       "      <td>0.121956</td>\n",
       "    </tr>\n",
       "    <tr>\n",
       "      <th>Total eve minutes</th>\n",
       "      <td>0.057509</td>\n",
       "    </tr>\n",
       "    <tr>\n",
       "      <th>Total eve calls</th>\n",
       "      <td>0.035399</td>\n",
       "    </tr>\n",
       "    <tr>\n",
       "      <th>Total eve charge</th>\n",
       "      <td>0.052365</td>\n",
       "    </tr>\n",
       "    <tr>\n",
       "      <th>Total night minutes</th>\n",
       "      <td>0.038967</td>\n",
       "    </tr>\n",
       "    <tr>\n",
       "      <th>Total night calls</th>\n",
       "      <td>0.035310</td>\n",
       "    </tr>\n",
       "    <tr>\n",
       "      <th>Total night charge</th>\n",
       "      <td>0.039967</td>\n",
       "    </tr>\n",
       "    <tr>\n",
       "      <th>Total intl minutes</th>\n",
       "      <td>0.048263</td>\n",
       "    </tr>\n",
       "    <tr>\n",
       "      <th>Total intl calls</th>\n",
       "      <td>0.057739</td>\n",
       "    </tr>\n",
       "    <tr>\n",
       "      <th>Total intl charge</th>\n",
       "      <td>0.051652</td>\n",
       "    </tr>\n",
       "    <tr>\n",
       "      <th>Customer service calls</th>\n",
       "      <td>0.124581</td>\n",
       "    </tr>\n",
       "  </tbody>\n",
       "</table>\n",
       "</div>"
      ],
      "text/plain": [
       "                           Score\n",
       "Account length          0.037857\n",
       "Area code               0.024526\n",
       "International plan      0.081858\n",
       "Voice mail plan         0.014729\n",
       "Number vmail messages   0.016794\n",
       "Total day minutes       0.122607\n",
       "Total day calls         0.037918\n",
       "Total day charge        0.121956\n",
       "Total eve minutes       0.057509\n",
       "Total eve calls         0.035399\n",
       "Total eve charge        0.052365\n",
       "Total night minutes     0.038967\n",
       "Total night calls       0.035310\n",
       "Total night charge      0.039967\n",
       "Total intl minutes      0.048263\n",
       "Total intl calls        0.057739\n",
       "Total intl charge       0.051652\n",
       "Customer service calls  0.124581"
      ]
     },
     "execution_count": 28,
     "metadata": {},
     "output_type": "execute_result"
    }
   ],
   "source": [
    "feature_importance = pd.DataFrame(ETC.feature_importances_,index=x.columns)\n",
    "feature_importance.columns = ['Score']\n",
    "feature_importance"
   ]
  },
  {
   "cell_type": "code",
   "execution_count": 29,
   "metadata": {},
   "outputs": [
    {
     "data": {
      "text/html": [
       "<div>\n",
       "<style scoped>\n",
       "    .dataframe tbody tr th:only-of-type {\n",
       "        vertical-align: middle;\n",
       "    }\n",
       "\n",
       "    .dataframe tbody tr th {\n",
       "        vertical-align: top;\n",
       "    }\n",
       "\n",
       "    .dataframe thead th {\n",
       "        text-align: right;\n",
       "    }\n",
       "</style>\n",
       "<table border=\"1\" class=\"dataframe\">\n",
       "  <thead>\n",
       "    <tr style=\"text-align: right;\">\n",
       "      <th></th>\n",
       "      <th>Score</th>\n",
       "    </tr>\n",
       "  </thead>\n",
       "  <tbody>\n",
       "    <tr>\n",
       "      <th>Customer service calls</th>\n",
       "      <td>0.124581</td>\n",
       "    </tr>\n",
       "    <tr>\n",
       "      <th>Total day minutes</th>\n",
       "      <td>0.122607</td>\n",
       "    </tr>\n",
       "    <tr>\n",
       "      <th>Total day charge</th>\n",
       "      <td>0.121956</td>\n",
       "    </tr>\n",
       "    <tr>\n",
       "      <th>International plan</th>\n",
       "      <td>0.081858</td>\n",
       "    </tr>\n",
       "    <tr>\n",
       "      <th>Total intl calls</th>\n",
       "      <td>0.057739</td>\n",
       "    </tr>\n",
       "    <tr>\n",
       "      <th>Total eve minutes</th>\n",
       "      <td>0.057509</td>\n",
       "    </tr>\n",
       "    <tr>\n",
       "      <th>Total eve charge</th>\n",
       "      <td>0.052365</td>\n",
       "    </tr>\n",
       "    <tr>\n",
       "      <th>Total intl charge</th>\n",
       "      <td>0.051652</td>\n",
       "    </tr>\n",
       "    <tr>\n",
       "      <th>Total intl minutes</th>\n",
       "      <td>0.048263</td>\n",
       "    </tr>\n",
       "    <tr>\n",
       "      <th>Total night charge</th>\n",
       "      <td>0.039967</td>\n",
       "    </tr>\n",
       "  </tbody>\n",
       "</table>\n",
       "</div>"
      ],
      "text/plain": [
       "                           Score\n",
       "Customer service calls  0.124581\n",
       "Total day minutes       0.122607\n",
       "Total day charge        0.121956\n",
       "International plan      0.081858\n",
       "Total intl calls        0.057739\n",
       "Total eve minutes       0.057509\n",
       "Total eve charge        0.052365\n",
       "Total intl charge       0.051652\n",
       "Total intl minutes      0.048263\n",
       "Total night charge      0.039967"
      ]
     },
     "execution_count": 29,
     "metadata": {},
     "output_type": "execute_result"
    }
   ],
   "source": [
    "# Selecting top 10 features\n",
    "best_features = feature_importance.nlargest(10, columns='Score')\n",
    "best_features"
   ]
  },
  {
   "cell_type": "markdown",
   "metadata": {},
   "source": [
    "#### Create features and target data. Only select features data that are highly correlated with target data"
   ]
  },
  {
   "cell_type": "code",
   "execution_count": 30,
   "metadata": {},
   "outputs": [
    {
     "data": {
      "text/html": [
       "<div>\n",
       "<style scoped>\n",
       "    .dataframe tbody tr th:only-of-type {\n",
       "        vertical-align: middle;\n",
       "    }\n",
       "\n",
       "    .dataframe tbody tr th {\n",
       "        vertical-align: top;\n",
       "    }\n",
       "\n",
       "    .dataframe thead th {\n",
       "        text-align: right;\n",
       "    }\n",
       "</style>\n",
       "<table border=\"1\" class=\"dataframe\">\n",
       "  <thead>\n",
       "    <tr style=\"text-align: right;\">\n",
       "      <th></th>\n",
       "      <th>Customer service calls</th>\n",
       "      <th>Total day minutes</th>\n",
       "      <th>Total day charge</th>\n",
       "      <th>International plan</th>\n",
       "      <th>Total intl calls</th>\n",
       "      <th>Total eve minutes</th>\n",
       "      <th>Total eve charge</th>\n",
       "      <th>Total intl charge</th>\n",
       "      <th>Total intl minutes</th>\n",
       "      <th>Total night charge</th>\n",
       "    </tr>\n",
       "  </thead>\n",
       "  <tbody>\n",
       "    <tr>\n",
       "      <th>0</th>\n",
       "      <td>1</td>\n",
       "      <td>265.1</td>\n",
       "      <td>45.07</td>\n",
       "      <td>0</td>\n",
       "      <td>3</td>\n",
       "      <td>197.4</td>\n",
       "      <td>16.78</td>\n",
       "      <td>2.70</td>\n",
       "      <td>10.0</td>\n",
       "      <td>11.01</td>\n",
       "    </tr>\n",
       "    <tr>\n",
       "      <th>1</th>\n",
       "      <td>1</td>\n",
       "      <td>161.6</td>\n",
       "      <td>27.47</td>\n",
       "      <td>0</td>\n",
       "      <td>3</td>\n",
       "      <td>195.5</td>\n",
       "      <td>16.62</td>\n",
       "      <td>3.70</td>\n",
       "      <td>13.7</td>\n",
       "      <td>11.45</td>\n",
       "    </tr>\n",
       "    <tr>\n",
       "      <th>2</th>\n",
       "      <td>0</td>\n",
       "      <td>243.4</td>\n",
       "      <td>41.38</td>\n",
       "      <td>0</td>\n",
       "      <td>5</td>\n",
       "      <td>121.2</td>\n",
       "      <td>10.30</td>\n",
       "      <td>3.29</td>\n",
       "      <td>12.2</td>\n",
       "      <td>7.32</td>\n",
       "    </tr>\n",
       "    <tr>\n",
       "      <th>3</th>\n",
       "      <td>2</td>\n",
       "      <td>299.4</td>\n",
       "      <td>50.90</td>\n",
       "      <td>1</td>\n",
       "      <td>7</td>\n",
       "      <td>61.9</td>\n",
       "      <td>5.26</td>\n",
       "      <td>1.78</td>\n",
       "      <td>6.6</td>\n",
       "      <td>8.86</td>\n",
       "    </tr>\n",
       "    <tr>\n",
       "      <th>4</th>\n",
       "      <td>3</td>\n",
       "      <td>166.7</td>\n",
       "      <td>28.34</td>\n",
       "      <td>1</td>\n",
       "      <td>3</td>\n",
       "      <td>148.3</td>\n",
       "      <td>12.61</td>\n",
       "      <td>2.73</td>\n",
       "      <td>10.1</td>\n",
       "      <td>8.41</td>\n",
       "    </tr>\n",
       "  </tbody>\n",
       "</table>\n",
       "</div>"
      ],
      "text/plain": [
       "   Customer service calls  Total day minutes  Total day charge  \\\n",
       "0                       1              265.1             45.07   \n",
       "1                       1              161.6             27.47   \n",
       "2                       0              243.4             41.38   \n",
       "3                       2              299.4             50.90   \n",
       "4                       3              166.7             28.34   \n",
       "\n",
       "   International plan  Total intl calls  Total eve minutes  Total eve charge  \\\n",
       "0                   0                 3              197.4             16.78   \n",
       "1                   0                 3              195.5             16.62   \n",
       "2                   0                 5              121.2             10.30   \n",
       "3                   1                 7               61.9              5.26   \n",
       "4                   1                 3              148.3             12.61   \n",
       "\n",
       "   Total intl charge  Total intl minutes  Total night charge  \n",
       "0               2.70                10.0               11.01  \n",
       "1               3.70                13.7               11.45  \n",
       "2               3.29                12.2                7.32  \n",
       "3               1.78                 6.6                8.86  \n",
       "4               2.73                10.1                8.41  "
      ]
     },
     "execution_count": 30,
     "metadata": {},
     "output_type": "execute_result"
    }
   ],
   "source": [
    "x = df[best_features.index]\n",
    "x.head()"
   ]
  },
  {
   "cell_type": "code",
   "execution_count": 31,
   "metadata": {},
   "outputs": [
    {
     "data": {
      "text/plain": [
       "0    0\n",
       "1    0\n",
       "2    0\n",
       "3    0\n",
       "4    0\n",
       "Name: Churn, dtype: int64"
      ]
     },
     "execution_count": 31,
     "metadata": {},
     "output_type": "execute_result"
    }
   ],
   "source": [
    "y = df['Churn']\n",
    "y.head()"
   ]
  },
  {
   "cell_type": "markdown",
   "metadata": {},
   "source": [
    "#### Check the shape of both training data and testing data"
   ]
  },
  {
   "cell_type": "code",
   "execution_count": 32,
   "metadata": {},
   "outputs": [],
   "source": [
    "from sklearn.model_selection import train_test_split"
   ]
  },
  {
   "cell_type": "code",
   "execution_count": 33,
   "metadata": {},
   "outputs": [],
   "source": [
    "x_train,x_test,y_train,y_test = train_test_split(x,y,test_size=0.2,random_state=12)"
   ]
  },
  {
   "cell_type": "code",
   "execution_count": 34,
   "metadata": {},
   "outputs": [
    {
     "data": {
      "text/plain": [
       "((2132, 10), (2132,))"
      ]
     },
     "execution_count": 34,
     "metadata": {},
     "output_type": "execute_result"
    }
   ],
   "source": [
    "# Shape of training data\n",
    "x_train.shape,y_train.shape"
   ]
  },
  {
   "cell_type": "code",
   "execution_count": 35,
   "metadata": {},
   "outputs": [
    {
     "data": {
      "text/plain": [
       "((534, 10), (534,))"
      ]
     },
     "execution_count": 35,
     "metadata": {},
     "output_type": "execute_result"
    }
   ],
   "source": [
    "# Shape of testing data\n",
    "x_test.shape,y_test.shape"
   ]
  },
  {
   "cell_type": "markdown",
   "metadata": {},
   "source": [
    "#### Apply Logistic regression"
   ]
  },
  {
   "cell_type": "code",
   "execution_count": 36,
   "metadata": {},
   "outputs": [],
   "source": [
    "from sklearn.linear_model import LogisticRegression"
   ]
  },
  {
   "cell_type": "code",
   "execution_count": 37,
   "metadata": {},
   "outputs": [],
   "source": [
    "LR = LogisticRegression(max_iter=300)"
   ]
  },
  {
   "cell_type": "code",
   "execution_count": 38,
   "metadata": {},
   "outputs": [
    {
     "data": {
      "text/plain": [
       "LogisticRegression(max_iter=300)"
      ]
     },
     "execution_count": 38,
     "metadata": {},
     "output_type": "execute_result"
    }
   ],
   "source": [
    "LR.fit(x_train,y_train)"
   ]
  },
  {
   "cell_type": "code",
   "execution_count": 39,
   "metadata": {},
   "outputs": [
    {
     "data": {
      "text/plain": [
       "0.8616322701688556"
      ]
     },
     "execution_count": 39,
     "metadata": {},
     "output_type": "execute_result"
    }
   ],
   "source": [
    "# Training Score\n",
    "LR.score(x_train,y_train)"
   ]
  },
  {
   "cell_type": "code",
   "execution_count": 40,
   "metadata": {},
   "outputs": [
    {
     "data": {
      "text/plain": [
       "0.8595505617977528"
      ]
     },
     "execution_count": 40,
     "metadata": {},
     "output_type": "execute_result"
    }
   ],
   "source": [
    "# Testing Score\n",
    "LR.score(x_test,y_test)"
   ]
  },
  {
   "cell_type": "markdown",
   "metadata": {},
   "source": [
    "#### Display confusion matrix"
   ]
  },
  {
   "cell_type": "code",
   "execution_count": 41,
   "metadata": {},
   "outputs": [],
   "source": [
    "y_pred = LR.predict(x_test)"
   ]
  },
  {
   "cell_type": "code",
   "execution_count": 42,
   "metadata": {},
   "outputs": [],
   "source": [
    "from sklearn.metrics import confusion_matrix"
   ]
  },
  {
   "cell_type": "code",
   "execution_count": 43,
   "metadata": {},
   "outputs": [
    {
     "data": {
      "text/plain": [
       "array([[448,  10],\n",
       "       [ 65,  11]], dtype=int64)"
      ]
     },
     "execution_count": 43,
     "metadata": {},
     "output_type": "execute_result"
    }
   ],
   "source": [
    "confusion_matrix(y_test,y_pred)"
   ]
  },
  {
   "cell_type": "markdown",
   "metadata": {},
   "source": [
    "#### Perform Hyper parameter tuning"
   ]
  },
  {
   "cell_type": "code",
   "execution_count": 44,
   "metadata": {},
   "outputs": [],
   "source": [
    "from sklearn.model_selection import RandomizedSearchCV"
   ]
  },
  {
   "cell_type": "code",
   "execution_count": 45,
   "metadata": {},
   "outputs": [],
   "source": [
    "random_grid = {\n",
    "    'penalty' : ['l1', 'l2', 'elasticnet'],\n",
    "    'max_iter' : [int(x) for x in np.linspace(start=200,stop=1000,num=10)],\n",
    "    'solver' : ['lbfgs','newton-cg', 'liblinear', 'sag', 'saga'],\n",
    "    'multi_class' : ['auto','ovr', 'multinomial']\n",
    "}"
   ]
  },
  {
   "cell_type": "code",
   "execution_count": 46,
   "metadata": {},
   "outputs": [],
   "source": [
    "RS = RandomizedSearchCV(estimator=LR,\n",
    "                       param_distributions=random_grid,\n",
    "                       n_iter=20,\n",
    "                       verbose=2,\n",
    "                       cv=5,\n",
    "                       random_state=12,\n",
    "                       n_jobs=-1)"
   ]
  },
  {
   "cell_type": "code",
   "execution_count": 47,
   "metadata": {},
   "outputs": [
    {
     "name": "stdout",
     "output_type": "stream",
     "text": [
      "Fitting 5 folds for each of 20 candidates, totalling 100 fits\n"
     ]
    },
    {
     "name": "stderr",
     "output_type": "stream",
     "text": [
      "[Parallel(n_jobs=-1)]: Using backend LokyBackend with 4 concurrent workers.\n",
      "[Parallel(n_jobs=-1)]: Done  33 tasks      | elapsed:    8.9s\n",
      "[Parallel(n_jobs=-1)]: Done 100 out of 100 | elapsed:   11.3s finished\n"
     ]
    },
    {
     "data": {
      "text/plain": [
       "RandomizedSearchCV(cv=5, estimator=LogisticRegression(max_iter=300), n_iter=20,\n",
       "                   n_jobs=-1,\n",
       "                   param_distributions={'max_iter': [200, 288, 377, 466, 555,\n",
       "                                                     644, 733, 822, 911, 1000],\n",
       "                                        'multi_class': ['auto', 'ovr',\n",
       "                                                        'multinomial'],\n",
       "                                        'penalty': ['l1', 'l2', 'elasticnet'],\n",
       "                                        'solver': ['lbfgs', 'newton-cg',\n",
       "                                                   'liblinear', 'sag',\n",
       "                                                   'saga']},\n",
       "                   random_state=12, verbose=2)"
      ]
     },
     "execution_count": 47,
     "metadata": {},
     "output_type": "execute_result"
    }
   ],
   "source": [
    "RS.fit(x_train,y_train)"
   ]
  },
  {
   "cell_type": "code",
   "execution_count": 48,
   "metadata": {},
   "outputs": [
    {
     "data": {
      "text/plain": [
       "{'solver': 'newton-cg',\n",
       " 'penalty': 'l2',\n",
       " 'multi_class': 'multinomial',\n",
       " 'max_iter': 288}"
      ]
     },
     "execution_count": 48,
     "metadata": {},
     "output_type": "execute_result"
    }
   ],
   "source": [
    "RS.best_params_"
   ]
  },
  {
   "cell_type": "markdown",
   "metadata": {},
   "source": [
    "#### Create a model"
   ]
  },
  {
   "cell_type": "code",
   "execution_count": 49,
   "metadata": {},
   "outputs": [
    {
     "data": {
      "text/plain": [
       "LogisticRegression(max_iter=288, multi_class='multinomial', solver='newton-cg')"
      ]
     },
     "execution_count": 49,
     "metadata": {},
     "output_type": "execute_result"
    }
   ],
   "source": [
    "RS.best_estimator_"
   ]
  },
  {
   "cell_type": "code",
   "execution_count": 50,
   "metadata": {},
   "outputs": [],
   "source": [
    "new_LR = RS.best_estimator_"
   ]
  },
  {
   "cell_type": "code",
   "execution_count": 51,
   "metadata": {},
   "outputs": [
    {
     "data": {
      "text/plain": [
       "LogisticRegression(max_iter=288, multi_class='multinomial', solver='newton-cg')"
      ]
     },
     "execution_count": 51,
     "metadata": {},
     "output_type": "execute_result"
    }
   ],
   "source": [
    "new_LR.fit(x_train,y_train)"
   ]
  },
  {
   "cell_type": "markdown",
   "metadata": {},
   "source": [
    "#### Check the model score of both training and testing data"
   ]
  },
  {
   "cell_type": "code",
   "execution_count": 52,
   "metadata": {},
   "outputs": [
    {
     "data": {
      "text/plain": [
       "0.8625703564727955"
      ]
     },
     "execution_count": 52,
     "metadata": {},
     "output_type": "execute_result"
    }
   ],
   "source": [
    "# Training Score after hyper parameter tuning\n",
    "new_LR.score(x_train,y_train)"
   ]
  },
  {
   "cell_type": "code",
   "execution_count": 53,
   "metadata": {},
   "outputs": [
    {
     "data": {
      "text/plain": [
       "0.8520599250936329"
      ]
     },
     "execution_count": 53,
     "metadata": {},
     "output_type": "execute_result"
    }
   ],
   "source": [
    "# Testing Score after hyper parameter tuning\n",
    "new_LR.score(x_test,y_test)"
   ]
  },
  {
   "cell_type": "markdown",
   "metadata": {},
   "source": [
    "#### Perform cross validation technique with SVM Classifier"
   ]
  },
  {
   "cell_type": "code",
   "execution_count": 54,
   "metadata": {},
   "outputs": [],
   "source": [
    "from sklearn.svm import SVC\n",
    "from sklearn.model_selection import KFold,cross_val_score"
   ]
  },
  {
   "cell_type": "code",
   "execution_count": 55,
   "metadata": {},
   "outputs": [],
   "source": [
    "SVM = SVC()"
   ]
  },
  {
   "cell_type": "code",
   "execution_count": 56,
   "metadata": {},
   "outputs": [
    {
     "name": "stdout",
     "output_type": "stream",
     "text": [
      "SVC : 0.8559957878109781\n"
     ]
    }
   ],
   "source": [
    "model_name = \"SVC\"\n",
    "cv_result = cross_val_score(SVM,x_train,y_train,cv=KFold(n_splits=10))\n",
    "print(model_name,\":\",cv_result.mean())"
   ]
  },
  {
   "cell_type": "markdown",
   "metadata": {},
   "source": [
    "#### Perform hyperparameter tuning with different classifier models"
   ]
  },
  {
   "cell_type": "code",
   "execution_count": 57,
   "metadata": {},
   "outputs": [],
   "source": [
    "from sklearn.tree import DecisionTreeClassifier\n",
    "from sklearn.ensemble import RandomForestClassifier\n",
    "from sklearn.naive_bayes import GaussianNB\n",
    "from sklearn.neighbors import KNeighborsClassifier\n",
    "from xgboost import XGBRFClassifier"
   ]
  },
  {
   "cell_type": "code",
   "execution_count": 58,
   "metadata": {},
   "outputs": [],
   "source": [
    "Dict = {\n",
    "    'Decision_Tree' : {\n",
    "        'model' : DecisionTreeClassifier(),\n",
    "        'params' : {\n",
    "            'criterion' : [\"gini\", \"entropy\"],\n",
    "            'splitter' : [\"best\", \"random\"],\n",
    "            'max_features' : [\"auto\", \"sqrt\", \"log2\"],\n",
    "            'max_depth' : [int(x) for x in np.linspace(10,1000,10)],\n",
    "            'min_samples_split' : [int(x) for x in range(1,10)],\n",
    "            'min_samples_leaf' : [int(x) for x in range(1,10)]\n",
    "        }\n",
    "    },\n",
    "    'Random_Forest' : {\n",
    "        'model' : RandomForestClassifier(),\n",
    "        'params' : {\n",
    "            'n_estimators' : [int(x) for x in np.linspace(10,1000,10)],\n",
    "            'criterion' : [\"gini\", \"entropy\"],\n",
    "            'max_features' : [\"auto\", \"sqrt\", \"log2\"],\n",
    "            'max_depth' : [int(x) for x in np.linspace(10,1000,10)],\n",
    "            'min_samples_split' : [int(x) for x in range(1,10)],\n",
    "            'min_samples_leaf' : [int(x) for x in range(1,10)]\n",
    "        }\n",
    "    },\n",
    "    'Naive_Bayes' : {\n",
    "        'model' : GaussianNB(),\n",
    "        'params' : {\n",
    "        }\n",
    "    },\n",
    "    'KNN' : {\n",
    "        'model' : KNeighborsClassifier(),\n",
    "        'params' : {\n",
    "            'n_neighbors' : [int(x) for x in range(1,21)]\n",
    "        }\n",
    "    },\n",
    "    'SVC' : {\n",
    "        'model' : SVC(),\n",
    "        'params' : {\n",
    "            'C' : [int(x) for x in range(1,21)]\n",
    "        }\n",
    "    },\n",
    "    'Xgboost_Classifier' : {\n",
    "        'model' : XGBRFClassifier(),\n",
    "        'params' : {\n",
    "            'n_estimators' : [int(x) for x in np.linspace(10,1000,10)]\n",
    "        }\n",
    "    }\n",
    "}"
   ]
  },
  {
   "cell_type": "code",
   "execution_count": 59,
   "metadata": {},
   "outputs": [],
   "source": [
    "scores = []\n",
    "\n",
    "for model_name,model_params in Dict.items():\n",
    "    RSCV = RandomizedSearchCV(estimator=model_params['model'],\n",
    "                              param_distributions=model_params['params'],\n",
    "                              n_iter=20,\n",
    "                              cv=5,\n",
    "                              random_state=12)\n",
    "    \n",
    "    if model_name == 'Xgboost_Classifier':\n",
    "        RSCV.fit(x_train,y_train,eval_metric='error')\n",
    "    else:\n",
    "        RSCV.fit(x_train,y_train)\n",
    "        \n",
    "    scores.append({\n",
    "        'Model_Name' : model_name,\n",
    "        'Best_Score' : round(RSCV.best_score_,2),\n",
    "        'Best_Parameters' : RSCV.best_params_\n",
    "    })"
   ]
  },
  {
   "cell_type": "code",
   "execution_count": 60,
   "metadata": {},
   "outputs": [],
   "source": [
    "# After applying operation on any particular column it won't affect any another column\n",
    "# Here after setting width of Best_Parameters column there must not be any change in decimal places of Best_Score column\n",
    "pd.set_option('precision', 2)"
   ]
  },
  {
   "cell_type": "code",
   "execution_count": 61,
   "metadata": {},
   "outputs": [
    {
     "data": {
      "text/html": [
       "<style  type=\"text/css\" >\n",
       "#T_35de23f7_ac41_11eb_824e_7446a0818d92row0_col2,#T_35de23f7_ac41_11eb_824e_7446a0818d92row1_col2,#T_35de23f7_ac41_11eb_824e_7446a0818d92row2_col2,#T_35de23f7_ac41_11eb_824e_7446a0818d92row3_col2,#T_35de23f7_ac41_11eb_824e_7446a0818d92row4_col2,#T_35de23f7_ac41_11eb_824e_7446a0818d92row5_col2{\n",
       "            width:  700px;\n",
       "        }</style><table id=\"T_35de23f7_ac41_11eb_824e_7446a0818d92\" ><thead>    <tr>        <th class=\"blank level0\" ></th>        <th class=\"col_heading level0 col0\" >Model_Name</th>        <th class=\"col_heading level0 col1\" >Best_Score</th>        <th class=\"col_heading level0 col2\" >Best_Parameters</th>    </tr></thead><tbody>\n",
       "                <tr>\n",
       "                        <th id=\"T_35de23f7_ac41_11eb_824e_7446a0818d92level0_row0\" class=\"row_heading level0 row0\" >0</th>\n",
       "                        <td id=\"T_35de23f7_ac41_11eb_824e_7446a0818d92row0_col0\" class=\"data row0 col0\" >Decision_Tree</td>\n",
       "                        <td id=\"T_35de23f7_ac41_11eb_824e_7446a0818d92row0_col1\" class=\"data row0 col1\" >0.92</td>\n",
       "                        <td id=\"T_35de23f7_ac41_11eb_824e_7446a0818d92row0_col2\" class=\"data row0 col2\" >{'splitter': 'best', 'min_samples_split': 9, 'min_samples_leaf': 8, 'max_features': 'auto', 'max_depth': 890, 'criterion': 'gini'}</td>\n",
       "            </tr>\n",
       "            <tr>\n",
       "                        <th id=\"T_35de23f7_ac41_11eb_824e_7446a0818d92level0_row1\" class=\"row_heading level0 row1\" >1</th>\n",
       "                        <td id=\"T_35de23f7_ac41_11eb_824e_7446a0818d92row1_col0\" class=\"data row1 col0\" >Random_Forest</td>\n",
       "                        <td id=\"T_35de23f7_ac41_11eb_824e_7446a0818d92row1_col1\" class=\"data row1 col1\" >0.94</td>\n",
       "                        <td id=\"T_35de23f7_ac41_11eb_824e_7446a0818d92row1_col2\" class=\"data row1 col2\" >{'n_estimators': 890, 'min_samples_split': 7, 'min_samples_leaf': 1, 'max_features': 'auto', 'max_depth': 780, 'criterion': 'entropy'}</td>\n",
       "            </tr>\n",
       "            <tr>\n",
       "                        <th id=\"T_35de23f7_ac41_11eb_824e_7446a0818d92level0_row2\" class=\"row_heading level0 row2\" >2</th>\n",
       "                        <td id=\"T_35de23f7_ac41_11eb_824e_7446a0818d92row2_col0\" class=\"data row2 col0\" >Naive_Bayes</td>\n",
       "                        <td id=\"T_35de23f7_ac41_11eb_824e_7446a0818d92row2_col1\" class=\"data row2 col1\" >0.85</td>\n",
       "                        <td id=\"T_35de23f7_ac41_11eb_824e_7446a0818d92row2_col2\" class=\"data row2 col2\" >{}</td>\n",
       "            </tr>\n",
       "            <tr>\n",
       "                        <th id=\"T_35de23f7_ac41_11eb_824e_7446a0818d92level0_row3\" class=\"row_heading level0 row3\" >3</th>\n",
       "                        <td id=\"T_35de23f7_ac41_11eb_824e_7446a0818d92row3_col0\" class=\"data row3 col0\" >KNN</td>\n",
       "                        <td id=\"T_35de23f7_ac41_11eb_824e_7446a0818d92row3_col1\" class=\"data row3 col1\" >0.88</td>\n",
       "                        <td id=\"T_35de23f7_ac41_11eb_824e_7446a0818d92row3_col2\" class=\"data row3 col2\" >{'n_neighbors': 9}</td>\n",
       "            </tr>\n",
       "            <tr>\n",
       "                        <th id=\"T_35de23f7_ac41_11eb_824e_7446a0818d92level0_row4\" class=\"row_heading level0 row4\" >4</th>\n",
       "                        <td id=\"T_35de23f7_ac41_11eb_824e_7446a0818d92row4_col0\" class=\"data row4 col0\" >SVC</td>\n",
       "                        <td id=\"T_35de23f7_ac41_11eb_824e_7446a0818d92row4_col1\" class=\"data row4 col1\" >0.87</td>\n",
       "                        <td id=\"T_35de23f7_ac41_11eb_824e_7446a0818d92row4_col2\" class=\"data row4 col2\" >{'C': 15}</td>\n",
       "            </tr>\n",
       "            <tr>\n",
       "                        <th id=\"T_35de23f7_ac41_11eb_824e_7446a0818d92level0_row5\" class=\"row_heading level0 row5\" >5</th>\n",
       "                        <td id=\"T_35de23f7_ac41_11eb_824e_7446a0818d92row5_col0\" class=\"data row5 col0\" >Xgboost_Classifier</td>\n",
       "                        <td id=\"T_35de23f7_ac41_11eb_824e_7446a0818d92row5_col1\" class=\"data row5 col1\" >0.94</td>\n",
       "                        <td id=\"T_35de23f7_ac41_11eb_824e_7446a0818d92row5_col2\" class=\"data row5 col2\" >{'n_estimators': 890}</td>\n",
       "            </tr>\n",
       "    </tbody></table>"
      ],
      "text/plain": [
       "<pandas.io.formats.style.Styler at 0x20597c25550>"
      ]
     },
     "execution_count": 61,
     "metadata": {},
     "output_type": "execute_result"
    }
   ],
   "source": [
    "new_df = pd.DataFrame(scores)\n",
    "# Setting width of any particular column\n",
    "new_df = new_df.style.set_properties(subset=['Best_Parameters'], **{'width': '700px'})\n",
    "new_df"
   ]
  },
  {
   "cell_type": "markdown",
   "metadata": {},
   "source": [
    "#### Perform k-means clustering on dataset and divide it into four clusters"
   ]
  },
  {
   "cell_type": "code",
   "execution_count": 62,
   "metadata": {},
   "outputs": [
    {
     "data": {
      "text/html": [
       "<div>\n",
       "<style scoped>\n",
       "    .dataframe tbody tr th:only-of-type {\n",
       "        vertical-align: middle;\n",
       "    }\n",
       "\n",
       "    .dataframe tbody tr th {\n",
       "        vertical-align: top;\n",
       "    }\n",
       "\n",
       "    .dataframe thead th {\n",
       "        text-align: right;\n",
       "    }\n",
       "</style>\n",
       "<table border=\"1\" class=\"dataframe\">\n",
       "  <thead>\n",
       "    <tr style=\"text-align: right;\">\n",
       "      <th></th>\n",
       "      <th>Customer service calls</th>\n",
       "      <th>Total day minutes</th>\n",
       "      <th>Total day charge</th>\n",
       "      <th>International plan</th>\n",
       "      <th>Total intl calls</th>\n",
       "      <th>Total eve minutes</th>\n",
       "      <th>Total eve charge</th>\n",
       "      <th>Total intl charge</th>\n",
       "      <th>Total intl minutes</th>\n",
       "      <th>Total night charge</th>\n",
       "    </tr>\n",
       "  </thead>\n",
       "  <tbody>\n",
       "    <tr>\n",
       "      <th>0</th>\n",
       "      <td>1</td>\n",
       "      <td>265.1</td>\n",
       "      <td>45.07</td>\n",
       "      <td>0</td>\n",
       "      <td>3</td>\n",
       "      <td>197.4</td>\n",
       "      <td>16.78</td>\n",
       "      <td>2.70</td>\n",
       "      <td>10.0</td>\n",
       "      <td>11.01</td>\n",
       "    </tr>\n",
       "    <tr>\n",
       "      <th>1</th>\n",
       "      <td>1</td>\n",
       "      <td>161.6</td>\n",
       "      <td>27.47</td>\n",
       "      <td>0</td>\n",
       "      <td>3</td>\n",
       "      <td>195.5</td>\n",
       "      <td>16.62</td>\n",
       "      <td>3.70</td>\n",
       "      <td>13.7</td>\n",
       "      <td>11.45</td>\n",
       "    </tr>\n",
       "    <tr>\n",
       "      <th>2</th>\n",
       "      <td>0</td>\n",
       "      <td>243.4</td>\n",
       "      <td>41.38</td>\n",
       "      <td>0</td>\n",
       "      <td>5</td>\n",
       "      <td>121.2</td>\n",
       "      <td>10.30</td>\n",
       "      <td>3.29</td>\n",
       "      <td>12.2</td>\n",
       "      <td>7.32</td>\n",
       "    </tr>\n",
       "    <tr>\n",
       "      <th>3</th>\n",
       "      <td>2</td>\n",
       "      <td>299.4</td>\n",
       "      <td>50.90</td>\n",
       "      <td>1</td>\n",
       "      <td>7</td>\n",
       "      <td>61.9</td>\n",
       "      <td>5.26</td>\n",
       "      <td>1.78</td>\n",
       "      <td>6.6</td>\n",
       "      <td>8.86</td>\n",
       "    </tr>\n",
       "    <tr>\n",
       "      <th>4</th>\n",
       "      <td>3</td>\n",
       "      <td>166.7</td>\n",
       "      <td>28.34</td>\n",
       "      <td>1</td>\n",
       "      <td>3</td>\n",
       "      <td>148.3</td>\n",
       "      <td>12.61</td>\n",
       "      <td>2.73</td>\n",
       "      <td>10.1</td>\n",
       "      <td>8.41</td>\n",
       "    </tr>\n",
       "  </tbody>\n",
       "</table>\n",
       "</div>"
      ],
      "text/plain": [
       "   Customer service calls  Total day minutes  Total day charge  \\\n",
       "0                       1              265.1             45.07   \n",
       "1                       1              161.6             27.47   \n",
       "2                       0              243.4             41.38   \n",
       "3                       2              299.4             50.90   \n",
       "4                       3              166.7             28.34   \n",
       "\n",
       "   International plan  Total intl calls  Total eve minutes  Total eve charge  \\\n",
       "0                   0                 3              197.4             16.78   \n",
       "1                   0                 3              195.5             16.62   \n",
       "2                   0                 5              121.2             10.30   \n",
       "3                   1                 7               61.9              5.26   \n",
       "4                   1                 3              148.3             12.61   \n",
       "\n",
       "   Total intl charge  Total intl minutes  Total night charge  \n",
       "0               2.70                10.0               11.01  \n",
       "1               3.70                13.7               11.45  \n",
       "2               3.29                12.2                7.32  \n",
       "3               1.78                 6.6                8.86  \n",
       "4               2.73                10.1                8.41  "
      ]
     },
     "execution_count": 62,
     "metadata": {},
     "output_type": "execute_result"
    }
   ],
   "source": [
    "KM_df = df\n",
    "KM_df = KM_df.drop(['Churn','State'],axis=1)\n",
    "KM_df = KM_df[x.columns]\n",
    "KM_df.head()"
   ]
  },
  {
   "cell_type": "code",
   "execution_count": 63,
   "metadata": {},
   "outputs": [],
   "source": [
    "from sklearn.cluster import KMeans"
   ]
  },
  {
   "cell_type": "code",
   "execution_count": 64,
   "metadata": {},
   "outputs": [],
   "source": [
    "KM = KMeans(n_clusters=4)"
   ]
  },
  {
   "cell_type": "code",
   "execution_count": 65,
   "metadata": {},
   "outputs": [
    {
     "data": {
      "text/plain": [
       "KMeans(n_clusters=4)"
      ]
     },
     "execution_count": 65,
     "metadata": {},
     "output_type": "execute_result"
    }
   ],
   "source": [
    "KM.fit(KM_df)"
   ]
  },
  {
   "cell_type": "code",
   "execution_count": 66,
   "metadata": {},
   "outputs": [
    {
     "data": {
      "text/plain": [
       "array([0, 2, 0, ..., 0, 1, 3])"
      ]
     },
     "execution_count": 66,
     "metadata": {},
     "output_type": "execute_result"
    }
   ],
   "source": [
    "cluster = KM.fit_predict(KM_df)\n",
    "cluster"
   ]
  },
  {
   "cell_type": "code",
   "execution_count": 67,
   "metadata": {},
   "outputs": [
    {
     "data": {
      "text/plain": [
       "array([[1.52074392e+00, 2.19248355e+02, 3.72726180e+01, 1.01573677e-01,\n",
       "        4.47496423e+00, 1.60914592e+02, 1.36779685e+01, 2.75021459e+00,\n",
       "        1.01834049e+01, 9.07758226e+00],\n",
       "       [1.53206997e+00, 1.37769679e+02, 2.34215598e+01, 9.32944606e-02,\n",
       "        4.49125364e+00, 2.40793003e+02, 2.04676968e+01, 2.78790087e+00,\n",
       "        1.03240525e+01, 9.00596210e+00],\n",
       "       [1.64620355e+00, 1.32588368e+02, 2.25404847e+01, 9.69305331e-02,\n",
       "        4.40387722e+00, 1.57063651e+02, 1.33506300e+01, 2.74515347e+00,\n",
       "        1.01659128e+01, 9.12075929e+00],\n",
       "       [1.56042296e+00, 2.24563746e+02, 3.81763746e+01, 1.13293051e-01,\n",
       "        4.49395770e+00, 2.40700604e+02, 2.04598036e+01, 2.77338369e+00,\n",
       "        1.02699396e+01, 9.01117825e+00]])"
      ]
     },
     "execution_count": 67,
     "metadata": {},
     "output_type": "execute_result"
    }
   ],
   "source": [
    "KM.cluster_centers_"
   ]
  },
  {
   "cell_type": "code",
   "execution_count": 68,
   "metadata": {},
   "outputs": [
    {
     "data": {
      "text/html": [
       "<div>\n",
       "<style scoped>\n",
       "    .dataframe tbody tr th:only-of-type {\n",
       "        vertical-align: middle;\n",
       "    }\n",
       "\n",
       "    .dataframe tbody tr th {\n",
       "        vertical-align: top;\n",
       "    }\n",
       "\n",
       "    .dataframe thead th {\n",
       "        text-align: right;\n",
       "    }\n",
       "</style>\n",
       "<table border=\"1\" class=\"dataframe\">\n",
       "  <thead>\n",
       "    <tr style=\"text-align: right;\">\n",
       "      <th></th>\n",
       "      <th>Customer service calls</th>\n",
       "      <th>Total day minutes</th>\n",
       "      <th>Total day charge</th>\n",
       "      <th>International plan</th>\n",
       "      <th>Total intl calls</th>\n",
       "      <th>Total eve minutes</th>\n",
       "      <th>Total eve charge</th>\n",
       "      <th>Total intl charge</th>\n",
       "      <th>Total intl minutes</th>\n",
       "      <th>Total night charge</th>\n",
       "      <th>Churn</th>\n",
       "    </tr>\n",
       "  </thead>\n",
       "  <tbody>\n",
       "    <tr>\n",
       "      <th>0</th>\n",
       "      <td>1</td>\n",
       "      <td>265.1</td>\n",
       "      <td>45.07</td>\n",
       "      <td>0</td>\n",
       "      <td>3</td>\n",
       "      <td>197.4</td>\n",
       "      <td>16.78</td>\n",
       "      <td>2.70</td>\n",
       "      <td>10.0</td>\n",
       "      <td>11.01</td>\n",
       "      <td>0</td>\n",
       "    </tr>\n",
       "    <tr>\n",
       "      <th>1</th>\n",
       "      <td>1</td>\n",
       "      <td>161.6</td>\n",
       "      <td>27.47</td>\n",
       "      <td>0</td>\n",
       "      <td>3</td>\n",
       "      <td>195.5</td>\n",
       "      <td>16.62</td>\n",
       "      <td>3.70</td>\n",
       "      <td>13.7</td>\n",
       "      <td>11.45</td>\n",
       "      <td>2</td>\n",
       "    </tr>\n",
       "    <tr>\n",
       "      <th>2</th>\n",
       "      <td>0</td>\n",
       "      <td>243.4</td>\n",
       "      <td>41.38</td>\n",
       "      <td>0</td>\n",
       "      <td>5</td>\n",
       "      <td>121.2</td>\n",
       "      <td>10.30</td>\n",
       "      <td>3.29</td>\n",
       "      <td>12.2</td>\n",
       "      <td>7.32</td>\n",
       "      <td>0</td>\n",
       "    </tr>\n",
       "    <tr>\n",
       "      <th>3</th>\n",
       "      <td>2</td>\n",
       "      <td>299.4</td>\n",
       "      <td>50.90</td>\n",
       "      <td>1</td>\n",
       "      <td>7</td>\n",
       "      <td>61.9</td>\n",
       "      <td>5.26</td>\n",
       "      <td>1.78</td>\n",
       "      <td>6.6</td>\n",
       "      <td>8.86</td>\n",
       "      <td>0</td>\n",
       "    </tr>\n",
       "    <tr>\n",
       "      <th>4</th>\n",
       "      <td>3</td>\n",
       "      <td>166.7</td>\n",
       "      <td>28.34</td>\n",
       "      <td>1</td>\n",
       "      <td>3</td>\n",
       "      <td>148.3</td>\n",
       "      <td>12.61</td>\n",
       "      <td>2.73</td>\n",
       "      <td>10.1</td>\n",
       "      <td>8.41</td>\n",
       "      <td>2</td>\n",
       "    </tr>\n",
       "  </tbody>\n",
       "</table>\n",
       "</div>"
      ],
      "text/plain": [
       "   Customer service calls  Total day minutes  Total day charge  \\\n",
       "0                       1              265.1             45.07   \n",
       "1                       1              161.6             27.47   \n",
       "2                       0              243.4             41.38   \n",
       "3                       2              299.4             50.90   \n",
       "4                       3              166.7             28.34   \n",
       "\n",
       "   International plan  Total intl calls  Total eve minutes  Total eve charge  \\\n",
       "0                   0                 3              197.4             16.78   \n",
       "1                   0                 3              195.5             16.62   \n",
       "2                   0                 5              121.2             10.30   \n",
       "3                   1                 7               61.9              5.26   \n",
       "4                   1                 3              148.3             12.61   \n",
       "\n",
       "   Total intl charge  Total intl minutes  Total night charge  Churn  \n",
       "0               2.70                10.0               11.01      0  \n",
       "1               3.70                13.7               11.45      2  \n",
       "2               3.29                12.2                7.32      0  \n",
       "3               1.78                 6.6                8.86      0  \n",
       "4               2.73                10.1                8.41      2  "
      ]
     },
     "execution_count": 68,
     "metadata": {},
     "output_type": "execute_result"
    }
   ],
   "source": [
    "KM_df['Churn'] = cluster\n",
    "KM_df.head()"
   ]
  },
  {
   "cell_type": "code",
   "execution_count": 69,
   "metadata": {},
   "outputs": [
    {
     "data": {
      "text/plain": [
       "0.30759325526830866"
      ]
     },
     "execution_count": 69,
     "metadata": {},
     "output_type": "execute_result"
    }
   ],
   "source": [
    "from sklearn.metrics import silhouette_score\n",
    "silhouette_score(KM_df,cluster)"
   ]
  }
 ],
 "metadata": {
  "kernelspec": {
   "display_name": "Python 3",
   "language": "python",
   "name": "python3"
  },
  "language_info": {
   "codemirror_mode": {
    "name": "ipython",
    "version": 3
   },
   "file_extension": ".py",
   "mimetype": "text/x-python",
   "name": "python",
   "nbconvert_exporter": "python",
   "pygments_lexer": "ipython3",
   "version": "3.8.5"
  }
 },
 "nbformat": 4,
 "nbformat_minor": 4
}
